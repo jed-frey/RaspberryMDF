{
 "cells": [
  {
   "cell_type": "code",
   "execution_count": 2,
   "metadata": {},
   "outputs": [
    {
     "name": "stdout",
     "output_type": "stream",
     "text": [
      "The autoreload extension is already loaded. To reload it, use:\n",
      "  %reload_ext autoreload\n"
     ]
    }
   ],
   "source": [
    "%load_ext autoreload"
   ]
  },
  {
   "cell_type": "code",
   "execution_count": null,
   "metadata": {},
   "outputs": [],
   "source": []
  },
  {
   "cell_type": "code",
   "execution_count": 1,
   "metadata": {},
   "outputs": [],
   "source": [
    "import asammdf\n",
    "Signal = asammdf.Signal\n",
    "import numpy as np\n",
    "import py\n",
    "import get_files\n",
    "import uuid\n",
    "import time\n",
    "import datetime\n",
    "%matplotlib inline"
   ]
  },
  {
   "cell_type": "code",
   "execution_count": 2,
   "metadata": {},
   "outputs": [],
   "source": [
    "from MDF2 import MDF2"
   ]
  },
  {
   "cell_type": "code",
   "execution_count": 3,
   "metadata": {},
   "outputs": [],
   "source": [
    "from signal_generators import *"
   ]
  },
  {
   "cell_type": "code",
   "execution_count": 4,
   "metadata": {},
   "outputs": [],
   "source": [
    "import asyncio"
   ]
  },
  {
   "cell_type": "code",
   "execution_count": 5,
   "metadata": {},
   "outputs": [],
   "source": [
    "class SignalBuffer():\n",
    "    def __init__(self, buffer_size=1024, dtype=np.double):\n",
    "        self.buffer_size = buffer_size\n",
    "        self.index=0\n",
    "        self.uuid=uuid.uuid4()\n",
    "        self.timestamps = np.ones(\n",
    "            self.buffer_size,\n",
    "            dtype=dtype,\n",
    "        )*np.NaN\n",
    "        self.samples = np.ones(\n",
    "            self.buffer_size,\n",
    "            dtype=dtype,\n",
    "        )*np.NaN\n",
    "        self.t0=None\n",
    "        \n",
    "    def append(self, timestamp, sample):           \n",
    "        try:\n",
    "            self.timestamps[self.index] = timestamp\n",
    "            self.samples[self.index] = sample\n",
    "            self.index+=1\n",
    "        except:\n",
    "            # TODO: Something\n",
    "            raise\n",
    "            \n",
    "    def signal(self, name=None, unit=\"\"):\n",
    "        if name is None:\n",
    "            name = self.uuid\n",
    "        signal_ = asammdf.Signal(\n",
    "            timestamps=self.timestamps[:self.index],\n",
    "            samples=self.samples[:self.index],\n",
    "            name=name,\n",
    "            unit=unit,\n",
    "            comment=\"buffer\",\n",
    "        )\n",
    "        return signal_\n",
    "    \n",
    "    @property\n",
    "    def _duration(self):\n",
    "        return self.timestamps[self.index-1] - self.timestamps[0]\n",
    "            \n",
    "    @property\n",
    "    def _free(self):\n",
    "        return self.buffer_size-self.index\n",
    "        \n",
    "    def __repr__(self):\n",
    "        return \"SignalBuffer<free={}, {:.2}>\".format(self._free, self._duration)"
   ]
  },
  {
   "cell_type": "code",
   "execution_count": 6,
   "metadata": {},
   "outputs": [],
   "source": [
    "utc_buffer = SignalBuffer()\n",
    "utc_buffer2 = SignalBuffer()\n",
    "\n",
    "time_scale=10\n",
    "\n",
    "t0 = time.time()\n",
    "for _ in range(10):\n",
    "    utc = time.time()\n",
    "    utc_buffer.append(\n",
    "        timestamp=(utc-t0)*time_scale,\n",
    "        sample=utc,\n",
    "    )\n",
    "    time.sleep(1/time_scale)\n",
    "    \n",
    "for _ in range(10):\n",
    "    utc = time.time()\n",
    "    utc_buffer2.append(\n",
    "        timestamp=(utc-t0)*time_scale,\n",
    "        sample=utc,\n",
    "    )\n",
    "    time.sleep(1/time_scale)"
   ]
  },
  {
   "cell_type": "code",
   "execution_count": 8,
   "metadata": {},
   "outputs": [
    {
     "data": {
      "text/plain": [
       "SignalBuffer<free=1014, 9.0>"
      ]
     },
     "execution_count": 8,
     "metadata": {},
     "output_type": "execute_result"
    }
   ],
   "source": [
    "utc_buffer"
   ]
  },
  {
   "cell_type": "code",
   "execution_count": 9,
   "metadata": {},
   "outputs": [],
   "source": [
    "T = datetime.datetime.utcnow()"
   ]
  },
  {
   "cell_type": "code",
   "execution_count": 10,
   "metadata": {},
   "outputs": [
    {
     "data": {
      "text/plain": [
       "'20184620Hello'"
      ]
     },
     "execution_count": 10,
     "metadata": {},
     "output_type": "execute_result"
    }
   ],
   "source": [
    "T.strftime(\"%Y%M%dHello\")"
   ]
  },
  {
   "cell_type": "code",
   "execution_count": 11,
   "metadata": {},
   "outputs": [
    {
     "data": {
      "text/plain": [
       "'02-February'"
      ]
     },
     "execution_count": 11,
     "metadata": {},
     "output_type": "execute_result"
    }
   ],
   "source": [
    "T.strftime(\"%m-%B\")"
   ]
  },
  {
   "cell_type": "code",
   "execution_count": 12,
   "metadata": {},
   "outputs": [
    {
     "data": {
      "text/plain": [
       "'20180220-Testing'"
      ]
     },
     "execution_count": 12,
     "metadata": {},
     "output_type": "execute_result"
    }
   ],
   "source": [
    "T.strftime(\"%Y%m%d-Testing\")"
   ]
  },
  {
   "cell_type": "code",
   "execution_count": 13,
   "metadata": {},
   "outputs": [],
   "source": [
    "import os\n",
    "import py.path"
   ]
  },
  {
   "cell_type": "code",
   "execution_count": 33,
   "metadata": {},
   "outputs": [
    {
     "data": {
      "text/plain": [
       "local('/projects/RaspberryMDF/DevNotebooks/Data/2018/02-February')"
      ]
     },
     "execution_count": 33,
     "metadata": {},
     "output_type": "execute_result"
    }
   ],
   "source": [
    "channel_path_ = [\n",
    "    \"Data\",\n",
    "    T.strftime(\"%Y\"),\n",
    "    T.strftime(\"%m-%B\"),\n",
    "    T.strftime(\"%Y%m%d-Testing\"),\n",
    "]\n",
    "\n",
    "channel_path = py.path.local(\n",
    "        os.path.join(*channel_path_)\n",
    ")\n",
    "\n",
    "channel_path.dirpath().ensure(dir=True)"
   ]
  },
  {
   "cell_type": "code",
   "execution_count": 34,
   "metadata": {},
   "outputs": [
    {
     "data": {
      "text/plain": [
       "False"
      ]
     },
     "execution_count": 34,
     "metadata": {},
     "output_type": "execute_result"
    }
   ],
   "source": [
    "channel_path.exists()"
   ]
  },
  {
   "cell_type": "code",
   "execution_count": 35,
   "metadata": {},
   "outputs": [],
   "source": [
    "signals = [\n",
    "    utc_buffer.signal(\"Test\"),\n",
    "]"
   ]
  },
  {
   "cell_type": "code",
   "execution_count": 36,
   "metadata": {},
   "outputs": [],
   "source": [
    "mdf = MDF2(\n",
    "    version='4.11',\n",
    ")\n",
    "mdf.append(\n",
    "    signals=signals,\n",
    "    common_timebase=False,\n",
    ")\n",
    "o = mdf.save(\n",
    "    dst=str(channel_path),\n",
    "    overwrite=True,\n",
    "    compression=2,\n",
    ")"
   ]
  },
  {
   "cell_type": "code",
   "execution_count": 37,
   "metadata": {},
   "outputs": [
    {
     "data": {
      "text/plain": [
       "'/projects/RaspberryMDF/DevNotebooks/Data/2018/02-February/20180220-Testing.mf4'"
      ]
     },
     "execution_count": 37,
     "metadata": {},
     "output_type": "execute_result"
    }
   ],
   "source": [
    "o"
   ]
  },
  {
   "cell_type": "code",
   "execution_count": 38,
   "metadata": {},
   "outputs": [],
   "source": [
    "mdf_ = MDF2(o)"
   ]
  },
  {
   "cell_type": "code",
   "execution_count": 39,
   "metadata": {
    "scrolled": true
   },
   "outputs": [],
   "source": [
    "Test = mdf_.get(\"Test\")"
   ]
  },
  {
   "cell_type": "code",
   "execution_count": 40,
   "metadata": {},
   "outputs": [
    {
     "data": {
      "image/png": "[encoded data removed]",
      "text/plain": [
       "<matplotlib.figure.Figure at 0x7f81b5abe8d0>"
      ]
     },
     "metadata": {},
     "output_type": "display_data"
    }
   ],
   "source": [
    "Test.extend(utc_buffer2.signal()).plot()"
   ]
  },
  {
   "cell_type": "code",
   "execution_count": 41,
   "metadata": {},
   "outputs": [],
   "source": [
    "signals = [\n",
    "        Test.extend(utc_buffer2.signal()),\n",
    "]"
   ]
  },
  {
   "cell_type": "code",
   "execution_count": 42,
   "metadata": {},
   "outputs": [],
   "source": [
    "mdf = MDF2(\n",
    "    version='4.11',\n",
    ")\n",
    "mdf.append(\n",
    "    signals=signals,\n",
    "    common_timebase=False,\n",
    ")\n",
    "o = mdf.save(\n",
    "    dst=o,\n",
    "    overwrite=True,\n",
    "    compression=2,\n",
    ")"
   ]
  },
  {
   "cell_type": "code",
   "execution_count": 46,
   "metadata": {},
   "outputs": [
    {
     "ename": "RuntimeError",
     "evalue": "Event loop is closed",
     "output_type": "error",
     "traceback": [
      "\u001b[0;31m---------------------------------------------------------------------------\u001b[0m",
      "\u001b[0;31mRuntimeError\u001b[0m                              Traceback (most recent call last)",
      "\u001b[0;32m<ipython-input-46-092bf74db557>\u001b[0m in \u001b[0;36m<module>\u001b[0;34m()\u001b[0m\n\u001b[1;32m      8\u001b[0m \u001b[0;34m\u001b[0m\u001b[0m\n\u001b[1;32m      9\u001b[0m \u001b[0mloop\u001b[0m \u001b[0;34m=\u001b[0m \u001b[0masyncio\u001b[0m\u001b[0;34m.\u001b[0m\u001b[0mget_event_loop\u001b[0m\u001b[0;34m(\u001b[0m\u001b[0;34m)\u001b[0m\u001b[0;34m\u001b[0m\u001b[0m\n\u001b[0;32m---> 10\u001b[0;31m \u001b[0mloop\u001b[0m\u001b[0;34m.\u001b[0m\u001b[0mrun_until_complete\u001b[0m\u001b[0;34m(\u001b[0m\u001b[0;34m[\u001b[0m\u001b[0mspeak_async\u001b[0m\u001b[0;34m(\u001b[0m\u001b[0;34m)\u001b[0m\u001b[0;34m,\u001b[0m \u001b[0mspeak_async2\u001b[0m\u001b[0;34m(\u001b[0m\u001b[0;34m)\u001b[0m\u001b[0;34m]\u001b[0m\u001b[0;34m)\u001b[0m\u001b[0;34m\u001b[0m\u001b[0m\n\u001b[0m\u001b[1;32m     11\u001b[0m \u001b[0mloop\u001b[0m\u001b[0;34m.\u001b[0m\u001b[0mclose\u001b[0m\u001b[0;34m(\u001b[0m\u001b[0;34m)\u001b[0m\u001b[0;34m\u001b[0m\u001b[0m\n",
      "\u001b[0;32m/usr/lib/python3.5/asyncio/base_events.py\u001b[0m in \u001b[0;36mrun_until_complete\u001b[0;34m(self, future)\u001b[0m\n\u001b[1;32m    362\u001b[0m         \u001b[0mReturn\u001b[0m \u001b[0mthe\u001b[0m \u001b[0mFuture\u001b[0m\u001b[0;31m'\u001b[0m\u001b[0ms\u001b[0m \u001b[0mresult\u001b[0m\u001b[0;34m,\u001b[0m \u001b[0;32mor\u001b[0m \u001b[0;32mraise\u001b[0m \u001b[0mits\u001b[0m \u001b[0mexception\u001b[0m\u001b[0;34m.\u001b[0m\u001b[0;34m\u001b[0m\u001b[0m\n\u001b[1;32m    363\u001b[0m         \"\"\"\n\u001b[0;32m--> 364\u001b[0;31m         \u001b[0mself\u001b[0m\u001b[0;34m.\u001b[0m\u001b[0m_check_closed\u001b[0m\u001b[0;34m(\u001b[0m\u001b[0;34m)\u001b[0m\u001b[0;34m\u001b[0m\u001b[0m\n\u001b[0m\u001b[1;32m    365\u001b[0m \u001b[0;34m\u001b[0m\u001b[0m\n\u001b[1;32m    366\u001b[0m         \u001b[0mnew_task\u001b[0m \u001b[0;34m=\u001b[0m \u001b[0;32mnot\u001b[0m \u001b[0misinstance\u001b[0m\u001b[0;34m(\u001b[0m\u001b[0mfuture\u001b[0m\u001b[0;34m,\u001b[0m \u001b[0mfutures\u001b[0m\u001b[0;34m.\u001b[0m\u001b[0mFuture\u001b[0m\u001b[0;34m)\u001b[0m\u001b[0;34m\u001b[0m\u001b[0m\n",
      "\u001b[0;32m/usr/lib/python3.5/asyncio/base_events.py\u001b[0m in \u001b[0;36m_check_closed\u001b[0;34m(self)\u001b[0m\n\u001b[1;32m    332\u001b[0m     \u001b[0;32mdef\u001b[0m \u001b[0m_check_closed\u001b[0m\u001b[0;34m(\u001b[0m\u001b[0mself\u001b[0m\u001b[0;34m)\u001b[0m\u001b[0;34m:\u001b[0m\u001b[0;34m\u001b[0m\u001b[0m\n\u001b[1;32m    333\u001b[0m         \u001b[0;32mif\u001b[0m \u001b[0mself\u001b[0m\u001b[0;34m.\u001b[0m\u001b[0m_closed\u001b[0m\u001b[0;34m:\u001b[0m\u001b[0;34m\u001b[0m\u001b[0m\n\u001b[0;32m--> 334\u001b[0;31m             \u001b[0;32mraise\u001b[0m \u001b[0mRuntimeError\u001b[0m\u001b[0;34m(\u001b[0m\u001b[0;34m'Event loop is closed'\u001b[0m\u001b[0;34m)\u001b[0m\u001b[0;34m\u001b[0m\u001b[0m\n\u001b[0m\u001b[1;32m    335\u001b[0m \u001b[0;34m\u001b[0m\u001b[0m\n\u001b[1;32m    336\u001b[0m     \u001b[0;32mdef\u001b[0m \u001b[0mrun_forever\u001b[0m\u001b[0;34m(\u001b[0m\u001b[0mself\u001b[0m\u001b[0;34m)\u001b[0m\u001b[0;34m:\u001b[0m\u001b[0;34m\u001b[0m\u001b[0m\n",
      "\u001b[0;31mRuntimeError\u001b[0m: Event loop is closed"
     ]
    }
   ],
   "source": [
    "import asyncio\n",
    "\n",
    "async def speak_async():  \n",
    "    print('OMG asynchronicity!')\n",
    "    \n",
    "async def speak_async2():  \n",
    "    print('OMG asynchronicity2!')\n",
    "\n",
    "loop = asyncio.get_event_loop()  \n",
    "loop.run_until_complete([speak_async(), speak_async2()])  \n",
    "loop.close()  "
   ]
  },
  {
   "cell_type": "code",
   "execution_count": null,
   "metadata": {},
   "outputs": [],
   "source": [
    "utc_buffer = SignalBuffer()\n",
    "utc_buffer2 = SignalBuffer()\n",
    "\n",
    "\n",
    "\n",
    "t0 = time.time()\n",
    "for _ in range(10):\n",
    "    utc = time.time()\n",
    "    utc_buffer.append(\n",
    "        timestamp=(utc-t0)*time_scale,\n",
    "        sample=utc,\n",
    "    )\n",
    "    time.sleep(1/time_scale)\n",
    "    \n",
    "for _ in range(10):\n",
    "    utc = time.time()\n",
    "    utc_buffer2.append(\n",
    "        timestamp=(utc-t0)*time_scale,\n",
    "        sample=utc,\n",
    "    )\n",
    "    time.sleep(1/time_scale)"
   ]
  }
 ],
 "metadata": {
  "kernelspec": {
   "display_name": "Python 3",
   "language": "python",
   "name": "python3"
  },
  "language_info": {
   "codemirror_mode": {
    "name": "ipython",
    "version": 3
   },
   "file_extension": ".py",
   "mimetype": "text/x-python",
   "name": "python",
   "nbconvert_exporter": "python",
   "pygments_lexer": "ipython3",
   "version": "3.5.2"
  }
 },
 "nbformat": 4,
 "nbformat_minor": 2
}
