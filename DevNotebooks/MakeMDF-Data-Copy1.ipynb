{
 "cells": [
  {
   "cell_type": "code",
   "execution_count": 1,
   "metadata": {},
   "outputs": [],
   "source": [
    "from asammdf import MDF, Signal\n",
    "import asammdf\n",
    "import numpy as np\n",
    "import scipy.signal\n",
    "import random\n",
    "import matplotlib.pyplot as plt\n",
    "import uuid\n",
    "import os\n",
    "import py"
   ]
  },
  {
   "cell_type": "markdown",
   "metadata": {},
   "source": [
    "$$ y(t) = A\\sin(2 \\pi f t + \\varphi) = A\\sin(\\omega t + \\varphi) $$"
   ]
  },
  {
   "cell_type": "code",
   "execution_count": 2,
   "metadata": {},
   "outputs": [],
   "source": [
    "tf = 10\n",
    "t5En1=np.arange(0, tf, 5e-1, dtype=np.float32)\n",
    "t1En3=np.arange(0, tf, 1e-3, dtype=np.float32)\n",
    "\n",
    "def sine(t, A=1, f=1):\n",
    "    sine_ = A*np.sin(\n",
    "        2 * np.pi * f * t\n",
    "    )\n",
    "    return sine_\n",
    "    \n",
    "def cos(t, A=1, f=1):\n",
    "    cos_ = A*np.sin(\n",
    "        2 * np.pi * f * t\n",
    "    )\n",
    "    return cos_\n",
    "\n",
    "def square(t, A=1, f=1):\n",
    "    square_ = A*scipy.signal.square(\n",
    "        2 * np.pi * f * t\n",
    "    )\n",
    "    return square_\n",
    "\n",
    "def sawtooth(t, A=1, f=1):\n",
    "    sawtooth_ = A*scipy.signal.sawtooth(\n",
    "        2 * np.pi * f * t,\n",
    "        width=1,\n",
    "    )\n",
    "    return sawtooth_\n",
    "\n",
    "def triangle(t, A=1, f=1):\n",
    "    triangle_ = A*scipy.signal.sawtooth(\n",
    "        2 * np.pi * f * t,\n",
    "        width=0.5,\n",
    "    )\n",
    "    return triangle_\n",
    "\n",
    "signal_generators = [sine, cos, square, sawtooth, triangle]"
   ]
  },
  {
   "cell_type": "code",
   "execution_count": 9,
   "metadata": {},
   "outputs": [],
   "source": [
    "signals = list()\n",
    "for signal_generator in signal_generators:\n",
    "    timestamps=t1En3\n",
    "    signal_ = Signal(\n",
    "            samples=signal_generator(timestamps),\n",
    "            timestamps=timestamps,\n",
    "            name=signal_generator.__name__,\n",
    "            unit=\"\",\n",
    "        )\n",
    "    signals.append(signal_)"
   ]
  },
  {
   "cell_type": "code",
   "execution_count": 5,
   "metadata": {
    "scrolled": true
   },
   "outputs": [
    {
     "data": {
      "text/plain": [
       "local('/projects/RaspberryMDF/DevNotebooks/Data')"
      ]
     },
     "execution_count": 5,
     "metadata": {},
     "output_type": "execute_result"
    }
   ],
   "source": [
    "data_file_uuid = str(uuid.uuid4())\n",
    "\n",
    "channel_path_ = [\"Data\", data_file_uuid]\n",
    "\n",
    "channel_path = py.path.local(\n",
    "        os.path.join(*channel_path_)\n",
    ")\n",
    "\n",
    "channel_path.dirpath().ensure(dir=True)"
   ]
  },
  {
   "cell_type": "code",
   "execution_count": 10,
   "metadata": {},
   "outputs": [
    {
     "name": "stdout",
     "output_type": "stream",
     "text": [
      "/projects/RaspberryMDF/DevNotebooks/Data/068a25c3-636a-4652-a714-28ca794365db.mf4\n"
     ]
    }
   ],
   "source": [
    "mdf = MDF(\n",
    "    version='4.11',\n",
    ")\n",
    "mdf.append(\n",
    "    signals=signals,\n",
    "    common_timebase=False,\n",
    ")\n",
    "o = mdf.save(\n",
    "    dst=str(channel_path),\n",
    "    overwrite=True,\n",
    "    compression=2,\n",
    ")\n",
    "print(o)"
   ]
  },
  {
   "cell_type": "code",
   "execution_count": null,
   "metadata": {},
   "outputs": [],
   "source": []
  }
 ],
 "metadata": {
  "kernelspec": {
   "display_name": "Python 3",
   "language": "python",
   "name": "python3"
  },
  "language_info": {
   "codemirror_mode": {
    "name": "ipython",
    "version": 3
   },
   "file_extension": ".py",
   "mimetype": "text/x-python",
   "name": "python",
   "nbconvert_exporter": "python",
   "pygments_lexer": "ipython3",
   "version": "3.5.2"
  }
 },
 "nbformat": 4,
 "nbformat_minor": 2
}
