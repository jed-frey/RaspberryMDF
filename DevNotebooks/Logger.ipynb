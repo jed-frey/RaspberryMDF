{
 "cells": [
  {
   "cell_type": "markdown",
   "metadata": {},
   "source": [
    "\n",
    "https://github.com/danielhrisca/asammdf/tree/master/documentation"
   ]
  },
  {
   "cell_type": "code",
   "execution_count": 3,
   "metadata": {},
   "outputs": [
    {
     "ename": "TypeError",
     "evalue": "'NoneType' object is not callable",
     "output_type": "error",
     "traceback": [
      "\u001b[0;31m---------------------------------------------------------------------------\u001b[0m",
      "\u001b[0;31mTypeError\u001b[0m                                 Traceback (most recent call last)",
      "\u001b[0;32m<ipython-input-3-7db12a6be76d>\u001b[0m in \u001b[0;36m<module>\u001b[0;34m()\u001b[0m\n\u001b[1;32m     25\u001b[0m \u001b[0;31m# start measurement\u001b[0m\u001b[0;34m\u001b[0m\u001b[0;34m\u001b[0m\u001b[0m\n\u001b[1;32m     26\u001b[0m \u001b[0;34m\u001b[0m\u001b[0m\n\u001b[0;32m---> 27\u001b[0;31m \u001b[0mrec\u001b[0m\u001b[0;34m.\u001b[0m\u001b[0mstart\u001b[0m\u001b[0;34m(\u001b[0m\u001b[0;34m)\u001b[0m\u001b[0;34m\u001b[0m\u001b[0m\n\u001b[0m\u001b[1;32m     28\u001b[0m \u001b[0;34m\u001b[0m\u001b[0m\n\u001b[1;32m     29\u001b[0m \u001b[0;34m\u001b[0m\u001b[0m\n",
      "\u001b[0;31mTypeError\u001b[0m: 'NoneType' object is not callable"
     ]
    }
   ],
   "source": [
    "from asammdf import Recorder, ChannelDescriptor\n",
    "from numpy import dtype\n",
    "\n",
    "rec = Recorder('measurement.mf4')\n",
    "\n",
    "# first source\n",
    "channels = [\n",
    "    ChannelDescriptor('CH1', 's', 'first channel', dtype('S')),\n",
    "    ChannelDescriptor('CH2', 'm', 'second channel', dtype('<u4')),\n",
    "    ChannelDescriptor('CH3', 'rpm', 'third channel', dtype('<f2')),\n",
    "]\n",
    "\n",
    "deposit1 = rec.register(channels, description=\"A\")\n",
    "\n",
    "\n",
    "# second source\n",
    "channels = [\n",
    "    ChannelDescriptor('CH_A', 'mph', 'first channel', dtype('>u8')),\n",
    "    ChannelDescriptor('CH_B', 'rad', 'second channel', dtype('<i4')),\n",
    "    ChannelDescriptor('CH_C', 'us', 'third channel', dtype('<f8')),\n",
    "]\n",
    "\n",
    "deposit2 = rec.register(channels, description=\"B\")\n",
    "\n",
    "# start measurement\n",
    "\n",
    "rec.start()\n",
    "\n",
    "\n",
    "while 1:\n",
    "    \n",
    "    if source1.has_samples:\n",
    "        # source samples is a list of python int, float or str objects\n",
    "        deposit1.append(source1.samples)\n",
    "        \n",
    "    if source2.has_samples:\n",
    "        # source samples is a list of python int, float or str objects\n",
    "        deposit2.append(source2.samples) \n",
    "        \n",
    "    # stop measurement when some condition is True\n",
    "    if stop_condition:\n",
    "        break\n",
    "    \n",
    "# stop recorder and the measurement is saved automatically\n",
    "\n",
    "rec.stop()"
   ]
  },
  {
   "cell_type": "code",
   "execution_count": null,
   "metadata": {},
   "outputs": [],
   "source": [
    "from asammdf import Recorder, ChannelDescriptor\n",
    "from numpy import dtype\n",
    "\n",
    "rec = Recorder('measurement.mf4')\n",
    "\n",
    "# first source\n",
    "channels = [\n",
    "    ChannelDescriptor('CH1', 's', 'first channel', dtype('S')),\n",
    "    ChannelDescriptor('CH2', 'm', 'second channel', dtype('<u4')),\n",
    "    ChannelDescriptor('CH3', 'rpm', 'third channel', dtype('<f2')),\n",
    "]\n",
    "\n",
    "deposit1 = rec.register(channels, description=\"A\")\n",
    "\n",
    "\n",
    "# second source\n",
    "channels = [\n",
    "    ChannelDescriptor('CH_A', 'mph', 'first channel', dtype('>u8')),\n",
    "    ChannelDescriptor('CH_B', 'rad', 'second channel', dtype('<i4')),\n",
    "    ChannelDescriptor('CH_C', 'us', 'third channel', dtype('<f8')),\n",
    "]\n",
    "\n",
    "deposit2 = rec.register(channels, description=\"B\")\n",
    "\n",
    "# start measurement\n",
    "\n",
    "rec.start()\n",
    "\n",
    "\n",
    "while 1:\n",
    "    \n",
    "    if source1.has_samples:\n",
    "        # source samples is a list of python int, float or str objects\n",
    "        deposit1.append(source1.samples)\n",
    "        \n",
    "    if source2.has_samples:\n",
    "        # source samples is a list of python int, float or str objects\n",
    "        deposit2.append(source2.samples) \n",
    "        \n",
    "    # stop measurement when some condition is True\n",
    "    if stop_condition:\n",
    "        break\n",
    "    \n",
    "# stop recorder and the measurement is saved automatically\n",
    "\n",
    "rec.stop()"
   ]
  },
  {
   "cell_type": "code",
   "execution_count": 5,
   "metadata": {},
   "outputs": [
    {
     "data": {
      "text/plain": [
       "'2.8.0'"
      ]
     },
     "execution_count": 5,
     "metadata": {},
     "output_type": "execute_result"
    }
   ],
   "source": [
    "asammdf.__version__"
   ]
  }
 ],
 "metadata": {
  "kernelspec": {
   "display_name": "Python 3",
   "language": "python",
   "name": "python3"
  },
  "language_info": {
   "codemirror_mode": {
    "name": "ipython",
    "version": 3
   },
   "file_extension": ".py",
   "mimetype": "text/x-python",
   "name": "python",
   "nbconvert_exporter": "python",
   "pygments_lexer": "ipython3",
   "version": "3.5.2"
  }
 },
 "nbformat": 4,
 "nbformat_minor": 2
}
