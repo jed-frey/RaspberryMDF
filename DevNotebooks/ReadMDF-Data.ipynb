{
 "cells": [
  {
   "cell_type": "code",
   "execution_count": 86,
   "metadata": {},
   "outputs": [],
   "source": [
    "import asammdf\n",
    "import numpy as np"
   ]
  },
  {
   "cell_type": "code",
   "execution_count": 87,
   "metadata": {},
   "outputs": [],
   "source": [
    "import py.path"
   ]
  },
  {
   "cell_type": "code",
   "execution_count": 88,
   "metadata": {},
   "outputs": [],
   "source": [
    "import get_files"
   ]
  },
  {
   "cell_type": "code",
   "execution_count": 89,
   "metadata": {},
   "outputs": [
    {
     "name": "stdout",
     "output_type": "stream",
     "text": [
      "Help on function get_files in module get_files:\n",
      "\n",
      "get_files(directory='.', extensions=None, depth=None, absolute=True)\n",
      "    Args:\n",
      "        directory (Optional[str]): Starting directory.\n",
      "                Default: ```os.path.curdir```\n",
      "        extensions (Optional[str]): List of extensions to yield\n",
      "                Case insensitive. ('.JPG' and '.jpg' are equivalent)\n",
      "                Default: None (All files).\n",
      "        depth (Optional[int]): Depth to recurse to.\n",
      "                Default: None (Infinite depth)\n",
      "        absolute (Optional[bool]): Return absolue path\n",
      "                Default: True\n",
      "    \n",
      "    Yields:\n",
      "        str: List of all files found in ``directory``\n",
      "    \n",
      "    Raises:\n",
      "        FileNotFoundError: If ```directory``` does not exist\n",
      "\n"
     ]
    }
   ],
   "source": [
    "help(get_files.get_files)"
   ]
  },
  {
   "cell_type": "code",
   "execution_count": 90,
   "metadata": {},
   "outputs": [],
   "source": [
    "mdfs = get_files.get_files(\n",
    "    directory='.',\n",
    "    extensions=\".mf4\",\n",
    "    depth=2,\n",
    "    absolute=True\n",
    ")"
   ]
  },
  {
   "cell_type": "code",
   "execution_count": 91,
   "metadata": {},
   "outputs": [
    {
     "data": {
      "text/plain": [
       "'/projects/RaspberryMDF/DevNotebooks/Data/4410e3a7-adc9-4eed-ba64-38303447175c.mf4'"
      ]
     },
     "execution_count": 91,
     "metadata": {},
     "output_type": "execute_result"
    }
   ],
   "source": [
    "for mdf in mdfs:\n",
    "    break\n",
    "mdf"
   ]
  },
  {
   "cell_type": "code",
   "execution_count": 92,
   "metadata": {},
   "outputs": [],
   "source": [
    "mdf_ = asammdf.MDF(mdf)"
   ]
  },
  {
   "cell_type": "code",
   "execution_count": 93,
   "metadata": {},
   "outputs": [
    {
     "data": {
      "text/plain": [
       "'4.11'"
      ]
     },
     "execution_count": 93,
     "metadata": {},
     "output_type": "execute_result"
    }
   ],
   "source": [
    "mdf_.version"
   ]
  },
  {
   "cell_type": "code",
   "execution_count": 94,
   "metadata": {},
   "outputs": [],
   "source": [
    "def __repr__(self):\n",
    "    return \"MDF<{}>\".format(self.version)"
   ]
  },
  {
   "cell_type": "code",
   "execution_count": 95,
   "metadata": {},
   "outputs": [],
   "source": [
    "def _path(self):\n",
    "    return py.path.local(self._file.name)"
   ]
  },
  {
   "cell_type": "code",
   "execution_count": 99,
   "metadata": {},
   "outputs": [
    {
     "data": {
      "text/plain": [
       "local('/projects/RaspberryMDF/DevNotebooks/Data/4410e3a7-adc9-4eed-ba64-38303447175c.mf4')"
      ]
     },
     "execution_count": 99,
     "metadata": {},
     "output_type": "execute_result"
    }
   ],
   "source": [
    "_path(mdf_)"
   ]
  },
  {
   "cell_type": "code",
   "execution_count": 100,
   "metadata": {},
   "outputs": [
    {
     "data": {
      "text/plain": [
       "'4410e3a7-adc9-4eed-ba64-38303447175c.mf4'"
      ]
     },
     "execution_count": 100,
     "metadata": {},
     "output_type": "execute_result"
    }
   ],
   "source": [
    "_path(mdf_).basename"
   ]
  },
  {
   "cell_type": "code",
   "execution_count": 98,
   "metadata": {},
   "outputs": [],
   "source": [
    "extend = {\n",
    "    \"__repr__\": __repr__,\n",
    "    \"_path\": property(_path),\n",
    "}"
   ]
  },
  {
   "cell_type": "code",
   "execution_count": 101,
   "metadata": {
    "scrolled": true
   },
   "outputs": [],
   "source": [
    "MDF2 = type(\"MDF2\", (asammdf.MDF, ), extend)"
   ]
  },
  {
   "cell_type": "code",
   "execution_count": 102,
   "metadata": {},
   "outputs": [
    {
     "data": {
      "text/plain": [
       "MDF<4.11>"
      ]
     },
     "execution_count": 102,
     "metadata": {},
     "output_type": "execute_result"
    }
   ],
   "source": [
    "mdf_ = MDF2(mdf)\n",
    "mdf_"
   ]
  },
  {
   "cell_type": "code",
   "execution_count": 104,
   "metadata": {},
   "outputs": [
    {
     "data": {
      "text/plain": [
       "MDF<4410e3a7-adc9-4eed-ba64-38303447175c.mf4, v=4.11>"
      ]
     },
     "execution_count": 104,
     "metadata": {},
     "output_type": "execute_result"
    }
   ],
   "source": [
    "def _path(self):\n",
    "    return py.path.local(self._file.name)\n",
    "\n",
    "def __repr__(self):\n",
    "    return \"MDF<{}, v={}>\".format(self._path.basename, self.version)\n",
    "\n",
    "extend = {\n",
    "    \"__repr__\": __repr__,\n",
    "    \"_path\": property(_path),\n",
    "}\n",
    "MDF2 = type(\"MDF2\", (asammdf.MDF, ), extend)\n",
    "\n",
    "mdf_ = MDF2(mdf)\n",
    "mdf_"
   ]
  },
  {
   "cell_type": "code",
   "execution_count": 106,
   "metadata": {},
   "outputs": [
    {
     "data": {
      "text/plain": [
       "{'sine': [(0, 1)], 't': [(0, 0)]}"
      ]
     },
     "execution_count": 106,
     "metadata": {},
     "output_type": "execute_result"
    }
   ],
   "source": [
    "mdf_.channels_db"
   ]
  },
  {
   "cell_type": "code",
   "execution_count": 107,
   "metadata": {},
   "outputs": [
    {
     "data": {
      "text/plain": [
       "MDF<4410e3a7-adc9-4eed-ba64-38303447175c.mf4, v=4.11>"
      ]
     },
     "execution_count": 107,
     "metadata": {},
     "output_type": "execute_result"
    }
   ],
   "source": [
    "mdf_"
   ]
  },
  {
   "cell_type": "code",
   "execution_count": 109,
   "metadata": {},
   "outputs": [
    {
     "name": "stdout",
     "output_type": "stream",
     "text": [
      "Help on method get in module asammdf.mdf_v4:\n",
      "\n",
      "get(name=None, group=None, index=None, raster=None, samples_only=False, data=None, raw=False) method of asammdf.mdf_v4.MDF4 instance\n",
      "    Gets channel samples.\n",
      "    Channel can be specified in two ways:\n",
      "    \n",
      "    * using the first positional argument *name*\n",
      "    \n",
      "        * if there are multiple occurances for this channel then the\n",
      "          *group* and *index* arguments can be used to select a specific\n",
      "          group.\n",
      "        * if there are multiple occurances for this channel and either the\n",
      "          *group* or *index* arguments is None then a warning is issued\n",
      "    \n",
      "    * using the group number (keyword argument *group*) and the channel\n",
      "      number (keyword argument *index*). Use *info* method for group and\n",
      "      channel numbers\n",
      "    \n",
      "    If the *raster* keyword argument is not *None* the output is\n",
      "    interpolated accordingly\n",
      "    \n",
      "    Parameters\n",
      "    ----------\n",
      "    name : string\n",
      "        name of channel\n",
      "    group : int\n",
      "        0-based group index\n",
      "    index : int\n",
      "        0-based channel index\n",
      "    raster : float\n",
      "        time raster in seconds\n",
      "    samples_only : bool\n",
      "        if *True* return only the channel samples as numpy array; if\n",
      "            *False* return a *Signal* object\n",
      "    data : bytes\n",
      "        prevent redundant data read by providing the raw data group samples\n",
      "    raw : bool\n",
      "        return channel samples without appling the conversion rule; default\n",
      "        `False`\n",
      "    \n",
      "    Returns\n",
      "    -------\n",
      "    res : (numpy.array | Signal)\n",
      "        returns *Signal* if *samples_only* = *False* (default option),\n",
      "        otherwise returns numpy.array\n",
      "        The *Signal* samples are:\n",
      "    \n",
      "            * numpy recarray for channels that have composition/channel\n",
      "              array address or for channel of type\n",
      "              CANOPENDATE, CANOPENTIME\n",
      "            * numpy array for all the rest\n",
      "    \n",
      "    Raises\n",
      "    ------\n",
      "    MdfException :\n",
      "    \n",
      "    * if the channel name is not found\n",
      "    * if the group index is out of range\n",
      "    * if the channel index is out of range\n",
      "    \n",
      "    Examples\n",
      "    --------\n",
      "    >>> from asammdf import MDF, Signal\n",
      "    >>> import numpy as np\n",
      "    >>> t = np.arange(5)\n",
      "    >>> s = np.ones(5)\n",
      "    >>> mdf = MDF(version='4.10')\n",
      "    >>> for i in range(4):\n",
      "    ...     sigs = [Signal(s*(i*10+j), t, name='Sig') for j in range(1, 4)]\n",
      "    ...     mdf.append(sigs)\n",
      "    ...\n",
      "    >>> # first group and channel index of the specified channel name\n",
      "    ...\n",
      "    >>> mdf.get('Sig')\n",
      "    UserWarning: Multiple occurances for channel \"Sig\". Using first occurance from data group 4. Provide both \"group\" and \"index\" arguments to select another data group\n",
      "    <Signal Sig:\n",
      "            samples=[ 1.  1.  1.  1.  1.]\n",
      "            timestamps=[0 1 2 3 4]\n",
      "            unit=\"\"\n",
      "            info=None\n",
      "            comment=\"\">\n",
      "    >>> # first channel index in the specified group\n",
      "    ...\n",
      "    >>> mdf.get('Sig', 1)\n",
      "    <Signal Sig:\n",
      "            samples=[ 11.  11.  11.  11.  11.]\n",
      "            timestamps=[0 1 2 3 4]\n",
      "            unit=\"\"\n",
      "            info=None\n",
      "            comment=\"\">\n",
      "    >>> # channel named Sig from group 1 channel index 2\n",
      "    ...\n",
      "    >>> mdf.get('Sig', 1, 2)\n",
      "    <Signal Sig:\n",
      "            samples=[ 12.  12.  12.  12.  12.]\n",
      "            timestamps=[0 1 2 3 4]\n",
      "            unit=\"\"\n",
      "            info=None\n",
      "            comment=\"\">\n",
      "    >>> # channel index 1 or group 2\n",
      "    ...\n",
      "    >>> mdf.get(None, 2, 1)\n",
      "    <Signal Sig:\n",
      "            samples=[ 21.  21.  21.  21.  21.]\n",
      "            timestamps=[0 1 2 3 4]\n",
      "            unit=\"\"\n",
      "            info=None\n",
      "            comment=\"\">\n",
      "    >>> mdf.get(group=2, index=1)\n",
      "    <Signal Sig:\n",
      "            samples=[ 21.  21.  21.  21.  21.]\n",
      "            timestamps=[0 1 2 3 4]\n",
      "            unit=\"\"\n",
      "            info=None\n",
      "            comment=\"\">\n",
      "\n"
     ]
    }
   ],
   "source": [
    "help(mdf_.get)"
   ]
  },
  {
   "cell_type": "code",
   "execution_count": 111,
   "metadata": {},
   "outputs": [],
   "source": [
    "sine = mdf_.get(\"sine\")"
   ]
  },
  {
   "cell_type": "code",
   "execution_count": 112,
   "metadata": {},
   "outputs": [
    {
     "ename": "AttributeError",
     "evalue": "'MDF2' object has no attribute 'sine'",
     "output_type": "error",
     "traceback": [
      "\u001b[0;31m---------------------------------------------------------------------------\u001b[0m",
      "\u001b[0;31mAttributeError\u001b[0m                            Traceback (most recent call last)",
      "\u001b[0;32m<ipython-input-112-0c62088b170e>\u001b[0m in \u001b[0;36m<module>\u001b[0;34m()\u001b[0m\n\u001b[0;32m----> 1\u001b[0;31m \u001b[0mmdf_\u001b[0m\u001b[0;34m.\u001b[0m\u001b[0msine\u001b[0m\u001b[0;34m\u001b[0m\u001b[0m\n\u001b[0m",
      "\u001b[0;31mAttributeError\u001b[0m: 'MDF2' object has no attribute 'sine'"
     ]
    }
   ],
   "source": [
    "mdf_.sine"
   ]
  },
  {
   "cell_type": "code",
   "execution_count": 113,
   "metadata": {},
   "outputs": [],
   "source": [
    "setattr(mdf_, \"sine\", mdf_.get(\"sine\"))"
   ]
  },
  {
   "cell_type": "code",
   "execution_count": 114,
   "metadata": {},
   "outputs": [
    {
     "data": {
      "text/plain": [
       "Signal(name=sine, samples=array([ 0.0000000e+00, -8.7422777e-08,  1.7484555e-07, -2.3849761e-08,\n",
       "        3.4969111e-07, -6.7553248e-07,  4.7699523e-08, -1.3272152e-06,\n",
       "        6.9938221e-07, -7.1549280e-08,  1.3510650e-06, -2.6305806e-06,\n",
       "        9.5399045e-08, -1.3749147e-06,  2.6544303e-06, -1.1924881e-07,\n",
       "        1.3987644e-06, -2.6782802e-06,  1.4309856e-07, -1.4226142e-06],\n",
       "      dtype=float32), timestamps=array([0. , 0.5, 1. , 1.5, 2. , 2.5, 3. , 3.5, 4. , 4.5, 5. , 5.5, 6. ,\n",
       "       6.5, 7. , 7.5, 8. , 8.5, 9. , 9.5]), unit=, conversion=None, comment=, raw=False)"
      ]
     },
     "execution_count": 114,
     "metadata": {},
     "output_type": "execute_result"
    }
   ],
   "source": [
    "mdf_.sine"
   ]
  },
  {
   "cell_type": "code",
   "execution_count": 115,
   "metadata": {},
   "outputs": [
    {
     "data": {
      "text/plain": [
       "<matplotlib.figure.Figure at 0x7fce870082b0>"
      ]
     },
     "metadata": {},
     "output_type": "display_data"
    }
   ],
   "source": [
    "mdf_.sine.plot()"
   ]
  },
  {
   "cell_type": "code",
   "execution_count": 116,
   "metadata": {},
   "outputs": [],
   "source": [
    "%matplotlib inline"
   ]
  },
  {
   "cell_type": "code",
   "execution_count": 118,
   "metadata": {},
   "outputs": [
    {
     "data": {
      "image/png": "[encoded data removed]",
      "text/plain": [
       "<matplotlib.figure.Figure at 0x7fce832c5278>"
      ]
     },
     "metadata": {},
     "output_type": "display_data"
    }
   ],
   "source": [
    "mdf_.sine.plot()"
   ]
  },
  {
   "cell_type": "code",
   "execution_count": 120,
   "metadata": {},
   "outputs": [
    {
     "data": {
      "text/plain": [
       "array([0. , 0.5, 1. , 1.5, 2. , 2.5, 3. , 3.5, 4. , 4.5, 5. , 5.5, 6. ,\n",
       "       6.5, 7. , 7.5, 8. , 8.5, 9. , 9.5])"
      ]
     },
     "execution_count": 120,
     "metadata": {},
     "output_type": "execute_result"
    }
   ],
   "source": [
    "mdf_.sine.timestamps"
   ]
  },
  {
   "cell_type": "code",
   "execution_count": 121,
   "metadata": {},
   "outputs": [
    {
     "data": {
      "text/plain": [
       "array([ 0.0000000e+00, -8.7422777e-08,  1.7484555e-07, -2.3849761e-08,\n",
       "        3.4969111e-07, -6.7553248e-07,  4.7699523e-08, -1.3272152e-06,\n",
       "        6.9938221e-07, -7.1549280e-08,  1.3510650e-06, -2.6305806e-06,\n",
       "        9.5399045e-08, -1.3749147e-06,  2.6544303e-06, -1.1924881e-07,\n",
       "        1.3987644e-06, -2.6782802e-06,  1.4309856e-07, -1.4226142e-06],\n",
       "      dtype=float32)"
      ]
     },
     "execution_count": 121,
     "metadata": {},
     "output_type": "execute_result"
    }
   ],
   "source": [
    "mdf_.sine.samples"
   ]
  },
  {
   "cell_type": "code",
   "execution_count": 123,
   "metadata": {},
   "outputs": [
    {
     "data": {
      "text/plain": [
       "Signal(name=sine, samples=array([ 0.0000000e+00, -8.7422777e-08,  1.7484555e-07, -2.3849761e-08,\n",
       "        3.4969111e-07, -6.7553248e-07,  4.7699523e-08, -1.3272152e-06,\n",
       "        6.9938221e-07, -7.1549280e-08,  1.3510650e-06, -2.6305806e-06,\n",
       "        9.5399045e-08, -1.3749147e-06,  2.6544303e-06, -1.1924881e-07,\n",
       "        1.3987644e-06, -2.6782802e-06,  1.4309856e-07, -1.4226142e-06],\n",
       "      dtype=float32), timestamps=array([0. , 0.5, 1. , 1.5, 2. , 2.5, 3. , 3.5, 4. , 4.5, 5. , 5.5, 6. ,\n",
       "       6.5, 7. , 7.5, 8. , 8.5, 9. , 9.5]), unit=, conversion=None, comment=, raw=False)"
      ]
     },
     "execution_count": 123,
     "metadata": {},
     "output_type": "execute_result"
    }
   ],
   "source": [
    "mdf_.sine"
   ]
  },
  {
   "cell_type": "code",
   "execution_count": 124,
   "metadata": {},
   "outputs": [
    {
     "name": "stdout",
     "output_type": "stream",
     "text": [
      "Help on method extend in module asammdf.mdf_v4:\n",
      "\n",
      "extend(index, signals) method of asammdf.mdf_v4.MDF4 instance\n",
      "    Extend a group with new samples. The first signal is the master channel's samples, and the\n",
      "    next signals must respect the same order in which they were appended. The samples must have raw\n",
      "    or physical values according to the *Signals* used for the initial append.\n",
      "    \n",
      "    Parameters\n",
      "    ----------\n",
      "    index : int\n",
      "        group index\n",
      "    signals : list\n",
      "        list on numpy.ndarray objects\n",
      "    \n",
      "    Examples\n",
      "    --------\n",
      "    >>> # case 1 conversion type None\n",
      "    >>> s1 = np.array([1, 2, 3, 4, 5])\n",
      "    >>> s2 = np.array([-1, -2, -3, -4, -5])\n",
      "    >>> s3 = np.array([0.1, 0.04, 0.09, 0.16, 0.25])\n",
      "    >>> t = np.array([0.001, 0.002, 0.003, 0.004, 0.005])\n",
      "    >>> names = ['Positive', 'Negative', 'Float']\n",
      "    >>> units = ['+', '-', '.f']\n",
      "    >>> s1 = Signal(samples=s1, timstamps=t, unit='+', name='Positive')\n",
      "    >>> s2 = Signal(samples=s2, timstamps=t, unit='-', name='Negative')\n",
      "    >>> s3 = Signal(samples=s3, timstamps=t, unit='flts', name='Floats')\n",
      "    >>> mdf = MDF3('new.mdf')\n",
      "    >>> mdf.append([s1, s2, s3], 'created by asammdf v1.1.0')\n",
      "    >>> t = np.array([0.006, 0.007, 0.008, 0.009, 0.010])\n",
      "    >>> mdf2.extend(0, [t, s1, s2, s3])\n",
      "\n"
     ]
    }
   ],
   "source": [
    "help(mdf_.extend)"
   ]
  },
  {
   "cell_type": "code",
   "execution_count": null,
   "metadata": {},
   "outputs": [],
   "source": []
  }
 ],
 "metadata": {
  "kernelspec": {
   "display_name": "Python 3",
   "language": "python",
   "name": "python3"
  },
  "language_info": {
   "codemirror_mode": {
    "name": "ipython",
    "version": 3
   },
   "file_extension": ".py",
   "mimetype": "text/x-python",
   "name": "python",
   "nbconvert_exporter": "python",
   "pygments_lexer": "ipython3",
   "version": "3.5.2"
  }
 },
 "nbformat": 4,
 "nbformat_minor": 2
}
