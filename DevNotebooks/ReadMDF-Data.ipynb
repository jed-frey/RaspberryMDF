{
 "cells": [
  {
   "cell_type": "code",
   "execution_count": 3,
   "metadata": {},
   "outputs": [],
   "source": [
    "import asammdf"
   ]
  },
  {
   "cell_type": "code",
   "execution_count": 43,
   "metadata": {},
   "outputs": [],
   "source": [
    "import py.path"
   ]
  },
  {
   "cell_type": "code",
   "execution_count": 44,
   "metadata": {},
   "outputs": [],
   "source": [
    "import get_files"
   ]
  },
  {
   "cell_type": "code",
   "execution_count": 45,
   "metadata": {},
   "outputs": [
    {
     "name": "stdout",
     "output_type": "stream",
     "text": [
      "Help on function get_files in module get_files:\n",
      "\n",
      "get_files(directory='.', extensions=None, depth=None, absolute=True)\n",
      "    Args:\n",
      "        directory (Optional[str]): Starting directory.\n",
      "                Default: ```os.path.curdir```\n",
      "        extensions (Optional[str]): List of extensions to yield\n",
      "                Case insensitive. ('.JPG' and '.jpg' are equivalent)\n",
      "                Default: None (All files).\n",
      "        depth (Optional[int]): Depth to recurse to.\n",
      "                Default: None (Infinite depth)\n",
      "        absolute (Optional[bool]): Return absolue path\n",
      "                Default: True\n",
      "    \n",
      "    Yields:\n",
      "        str: List of all files found in ``directory``\n",
      "    \n",
      "    Raises:\n",
      "        FileNotFoundError: If ```directory``` does not exist\n",
      "\n"
     ]
    }
   ],
   "source": [
    "help(get_files.get_files)"
   ]
  },
  {
   "cell_type": "code",
   "execution_count": null,
   "metadata": {},
   "outputs": [],
   "source": []
  },
  {
   "cell_type": "code",
   "execution_count": 28,
   "metadata": {},
   "outputs": [],
   "source": [
    "mdfs = get_files.get_files(\n",
    "    directory='.',\n",
    "    extensions=\".mf4\",\n",
    "    depth=2,\n",
    "    absolute=True\n",
    ")"
   ]
  },
  {
   "cell_type": "code",
   "execution_count": 30,
   "metadata": {},
   "outputs": [
    {
     "data": {
      "text/plain": [
       "'/projects/RaspberryMDF/DevNotebooks/Data/068a25c3-636a-4652-a714-28ca794365db.mf4'"
      ]
     },
     "execution_count": 30,
     "metadata": {},
     "output_type": "execute_result"
    }
   ],
   "source": [
    "for mdf in mdfs:\n",
    "    break\n",
    "mdf"
   ]
  },
  {
   "cell_type": "code",
   "execution_count": 59,
   "metadata": {},
   "outputs": [],
   "source": [
    "mdf_ = asammdf.MDF(mdf)"
   ]
  },
  {
   "cell_type": "code",
   "execution_count": 60,
   "metadata": {},
   "outputs": [
    {
     "data": {
      "text/plain": [
       "'4.11'"
      ]
     },
     "execution_count": 60,
     "metadata": {},
     "output_type": "execute_result"
    }
   ],
   "source": [
    "mdf_.version"
   ]
  },
  {
   "cell_type": "code",
   "execution_count": 61,
   "metadata": {},
   "outputs": [],
   "source": [
    "def __repr__(self):\n",
    "    return \"MDF<{}, {}>\".format(self.version)"
   ]
  },
  {
   "cell_type": "code",
   "execution_count": 62,
   "metadata": {},
   "outputs": [],
   "source": [
    "def _path(self):\n",
    "    return py.path.local(self._file.name)"
   ]
  },
  {
   "cell_type": "code",
   "execution_count": 64,
   "metadata": {},
   "outputs": [
    {
     "data": {
      "text/plain": [
       "local('/projects/RaspberryMDF/DevNotebooks/Data/068a25c3-636a-4652-a714-28ca794365db.mf4')"
      ]
     },
     "execution_count": 64,
     "metadata": {},
     "output_type": "execute_result"
    }
   ],
   "source": [
    "_path(mdf_)"
   ]
  },
  {
   "cell_type": "code",
   "execution_count": null,
   "metadata": {},
   "outputs": [],
   "source": [
    "help "
   ]
  },
  {
   "cell_type": "code",
   "execution_count": null,
   "metadata": {},
   "outputs": [],
   "source": []
  }
 ],
 "metadata": {
  "kernelspec": {
   "display_name": "Python 3",
   "language": "python",
   "name": "python3"
  },
  "language_info": {
   "codemirror_mode": {
    "name": "ipython",
    "version": 3
   },
   "file_extension": ".py",
   "mimetype": "text/x-python",
   "name": "python",
   "nbconvert_exporter": "python",
   "pygments_lexer": "ipython3",
   "version": "3.5.2"
  }
 },
 "nbformat": 4,
 "nbformat_minor": 2
}
