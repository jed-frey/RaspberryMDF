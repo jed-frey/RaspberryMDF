{
 "cells": [
  {
   "cell_type": "code",
   "execution_count": 219,
   "metadata": {},
   "outputs": [
    {
     "name": "stdout",
     "output_type": "stream",
     "text": [
      "The autoreload extension is already loaded. To reload it, use:\n",
      "  %reload_ext autoreload\n"
     ]
    }
   ],
   "source": [
    "%load_ext autoreload"
   ]
  },
  {
   "cell_type": "code",
   "execution_count": 220,
   "metadata": {},
   "outputs": [],
   "source": [
    "import asammdf\n",
    "Signal = asammdf.Signal\n",
    "import numpy as np\n",
    "import py\n",
    "import get_files\n",
    "import uuid\n",
    "%matplotlib inline"
   ]
  },
  {
   "cell_type": "code",
   "execution_count": 221,
   "metadata": {},
   "outputs": [
    {
     "name": "stdout",
     "output_type": "stream",
     "text": [
      "Overwriting MDF2.py\n"
     ]
    }
   ],
   "source": [
    "%%file MDF2.py\n",
    "import asammdf\n",
    "def _path(self):\n",
    "    return py.path.local(self._file.name)\n",
    "\n",
    "def __repr__(self):\n",
    "    return \"MDF<{}, v={}>\".format(self._path.basename, self.version)\n",
    "\n",
    "# Dunctions to extend MDF with.\n",
    "extend = {\n",
    "    \"__repr__\": __repr__,\n",
    "    \"_path\": property(_path),\n",
    "}\n",
    "MDF2 = type(\"MDF2\", (asammdf.MDF, ), extend)"
   ]
  },
  {
   "cell_type": "code",
   "execution_count": 8,
   "metadata": {},
   "outputs": [],
   "source": [
    "from MDF2 import MDF2"
   ]
  },
  {
   "cell_type": "code",
   "execution_count": 119,
   "metadata": {},
   "outputs": [],
   "source": [
    "from signal_generators import *"
   ]
  },
  {
   "cell_type": "code",
   "execution_count": 120,
   "metadata": {},
   "outputs": [],
   "source": [
    "import time"
   ]
  },
  {
   "cell_type": "code",
   "execution_count": 121,
   "metadata": {},
   "outputs": [],
   "source": [
    "t0 = time.time()\n",
    "T = np.zeros(0)"
   ]
  },
  {
   "cell_type": "code",
   "execution_count": 122,
   "metadata": {},
   "outputs": [
    {
     "data": {
      "text/plain": [
       "numpy.float32"
      ]
     },
     "execution_count": 122,
     "metadata": {},
     "output_type": "execute_result"
    }
   ],
   "source": [
    "np.float32"
   ]
  },
  {
   "cell_type": "code",
   "execution_count": 194,
   "metadata": {},
   "outputs": [],
   "source": [
    "class SignalBuffer():\n",
    "    def __init__(self, buffer_size=1024, dtype=np.double):\n",
    "        self.buffer_size = buffer_size\n",
    "        self.index=0\n",
    "        self.uuid=uuid.uuid4()\n",
    "        self.timestamps = np.ones(\n",
    "            self.buffer_size,\n",
    "            dtype=dtype,\n",
    "        )*np.NaN\n",
    "        self.samples = np.ones(\n",
    "            self.buffer_size,\n",
    "            dtype=dtype,\n",
    "        )*np.NaN\n",
    "        self.t0=None\n",
    "        \n",
    "    def append(self, timestamp, sample):           \n",
    "        try:\n",
    "            self.timestamps[self.index] = timestamp\n",
    "            self.samples[self.index] = sample\n",
    "            self.index+=1\n",
    "        except:\n",
    "            # TODO: Something\n",
    "            raise\n",
    "            \n",
    "    def signal(self, name=None, unit=\"\"):\n",
    "        if name is None:\n",
    "            name = self.uuid\n",
    "        signal_ = asammdf.Signal(\n",
    "            timestamps=self.timestamps[:self.index],\n",
    "            samples=self.samples[:self.index],\n",
    "            name=name,\n",
    "            unit=unit,\n",
    "            comment=\"buffer\",\n",
    "        )\n",
    "        return signal_\n",
    "    \n",
    "    @property\n",
    "    def _duration(self):\n",
    "        return self.timestamps[self.index-1] - self.timestamps[0]\n",
    "            \n",
    "    @property\n",
    "    def _free(self):\n",
    "        return self.buffer_size-self.index\n",
    "        \n",
    "    def __repr__(self):\n",
    "        return \"SignalBuffer<free={}, {:.2}>\".format(self._free, self._duration)"
   ]
  },
  {
   "cell_type": "code",
   "execution_count": 197,
   "metadata": {},
   "outputs": [],
   "source": [
    "utc_buffer = SignalBuffer()\n",
    "utc_buffer2 = SignalBuffer()\n",
    "\n",
    "time_scale=10\n",
    "\n",
    "t0 = time.time()\n",
    "for _ in range(10):\n",
    "    utc = time.time()\n",
    "    utc_buffer.append(\n",
    "        timestamp=(utc-t0)*time_scale,\n",
    "        sample=utc,\n",
    "    )\n",
    "    time.sleep(1/time_scale)\n",
    "    \n",
    "for _ in range(10):\n",
    "    utc = time.time()\n",
    "    utc_buffer2.append(\n",
    "        timestamp=(utc-t0)*time_scale,\n",
    "        sample=utc,\n",
    "    )\n",
    "    time.sleep(1/time_scale)"
   ]
  },
  {
   "cell_type": "code",
   "execution_count": 199,
   "metadata": {},
   "outputs": [],
   "source": [
    "f = utc_buffer.signal(name=\"UTC\", unit=\"s\").extend(utc_buffer2.signal())"
   ]
  },
  {
   "cell_type": "code",
   "execution_count": 200,
   "metadata": {},
   "outputs": [],
   "source": [
    "import datetime"
   ]
  },
  {
   "cell_type": "code",
   "execution_count": 201,
   "metadata": {},
   "outputs": [],
   "source": [
    "T = datetime.datetime.utcnow()"
   ]
  },
  {
   "cell_type": "code",
   "execution_count": 202,
   "metadata": {},
   "outputs": [
    {
     "data": {
      "text/plain": [
       "'20183020'"
      ]
     },
     "execution_count": 202,
     "metadata": {},
     "output_type": "execute_result"
    }
   ],
   "source": [
    "T.strftime(\"%Y%M%d\")"
   ]
  },
  {
   "cell_type": "code",
   "execution_count": 203,
   "metadata": {},
   "outputs": [
    {
     "data": {
      "text/plain": [
       "'02-February'"
      ]
     },
     "execution_count": 203,
     "metadata": {},
     "output_type": "execute_result"
    }
   ],
   "source": [
    "T.strftime(\"%m-%B\")"
   ]
  },
  {
   "cell_type": "code",
   "execution_count": 204,
   "metadata": {},
   "outputs": [
    {
     "data": {
      "text/plain": [
       "'20180220-Testing'"
      ]
     },
     "execution_count": 204,
     "metadata": {},
     "output_type": "execute_result"
    }
   ],
   "source": [
    "T.strftime(\"%Y%m%d-Testing\")"
   ]
  },
  {
   "cell_type": "code",
   "execution_count": 205,
   "metadata": {},
   "outputs": [],
   "source": [
    "import os\n",
    "import py.path"
   ]
  },
  {
   "cell_type": "code",
   "execution_count": 206,
   "metadata": {},
   "outputs": [
    {
     "data": {
      "text/plain": [
       "local('/projects/RaspberryMDF/DevNotebooks/Data/2018/02-February')"
      ]
     },
     "execution_count": 206,
     "metadata": {},
     "output_type": "execute_result"
    }
   ],
   "source": [
    "channel_path_ = [\n",
    "    \"Data\",\n",
    "    T.strftime(\"%Y\"),\n",
    "    T.strftime(\"%m-%B\"),\n",
    "    T.strftime(\"%Y%m%d-Testing\"),\n",
    "]\n",
    "\n",
    "channel_path = py.path.local(\n",
    "        os.path.join(*channel_path_)\n",
    ")\n",
    "\n",
    "channel_path.dirpath().ensure(dir=True)"
   ]
  },
  {
   "cell_type": "code",
   "execution_count": 207,
   "metadata": {},
   "outputs": [
    {
     "data": {
      "text/plain": [
       "False"
      ]
     },
     "execution_count": 207,
     "metadata": {},
     "output_type": "execute_result"
    }
   ],
   "source": [
    "channel_path.exists()"
   ]
  },
  {
   "cell_type": "code",
   "execution_count": 208,
   "metadata": {},
   "outputs": [],
   "source": [
    "signals = [\n",
    "    utc_buffer.signal(\"Test\"),\n",
    "]"
   ]
  },
  {
   "cell_type": "code",
   "execution_count": 209,
   "metadata": {},
   "outputs": [],
   "source": [
    "mdf = MDF2(\n",
    "    version='4.11',\n",
    ")\n",
    "mdf.append(\n",
    "    signals=signals,\n",
    "    common_timebase=False,\n",
    ")\n",
    "o = mdf.save(\n",
    "    dst=str(channel_path),\n",
    "    overwrite=True,\n",
    "    compression=2,\n",
    ")"
   ]
  },
  {
   "cell_type": "code",
   "execution_count": 210,
   "metadata": {},
   "outputs": [
    {
     "data": {
      "text/plain": [
       "'/projects/RaspberryMDF/DevNotebooks/Data/2018/02-February/20180220-Testing.mf4'"
      ]
     },
     "execution_count": 210,
     "metadata": {},
     "output_type": "execute_result"
    }
   ],
   "source": [
    "o"
   ]
  },
  {
   "cell_type": "code",
   "execution_count": 211,
   "metadata": {},
   "outputs": [],
   "source": [
    "mdf_ = MDF2(o)"
   ]
  },
  {
   "cell_type": "code",
   "execution_count": 212,
   "metadata": {
    "scrolled": true
   },
   "outputs": [],
   "source": [
    "Test = mdf_.get(\"Test\")"
   ]
  },
  {
   "cell_type": "code",
   "execution_count": 213,
   "metadata": {},
   "outputs": [
    {
     "data": {
      "image/png": "[encoded data removed]",
      "text/plain": [
       "<matplotlib.figure.Figure at 0x7fa810860e80>"
      ]
     },
     "metadata": {},
     "output_type": "display_data"
    }
   ],
   "source": [
    "Test.extend(utc_buffer2.signal()).plot()"
   ]
  },
  {
   "cell_type": "code",
   "execution_count": 214,
   "metadata": {},
   "outputs": [],
   "source": [
    "signals = [\n",
    "        Test.extend(utc_buffer2.signal()),\n",
    "]"
   ]
  },
  {
   "cell_type": "code",
   "execution_count": 215,
   "metadata": {},
   "outputs": [],
   "source": [
    "mdf = MDF2(\n",
    "    version='4.11',\n",
    ")\n",
    "mdf.append(\n",
    "    signals=signals,\n",
    "    common_timebase=False,\n",
    ")\n",
    "o = mdf.save(\n",
    "    dst=o,\n",
    "    overwrite=True,\n",
    "    compression=2,\n",
    ")"
   ]
  },
  {
   "cell_type": "code",
   "execution_count": 218,
   "metadata": {},
   "outputs": [],
   "source": [
    "?mdf_.append"
   ]
  },
  {
   "cell_type": "code",
   "execution_count": null,
   "metadata": {},
   "outputs": [],
   "source": []
  }
 ],
 "metadata": {
  "kernelspec": {
   "display_name": "Python 3",
   "language": "python",
   "name": "python3"
  },
  "language_info": {
   "codemirror_mode": {
    "name": "ipython",
    "version": 3
   },
   "file_extension": ".py",
   "mimetype": "text/x-python",
   "name": "python",
   "nbconvert_exporter": "python",
   "pygments_lexer": "ipython3",
   "version": "3.5.2"
  }
 },
 "nbformat": 4,
 "nbformat_minor": 2
}
