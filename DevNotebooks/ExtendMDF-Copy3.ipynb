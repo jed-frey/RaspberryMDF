{
 "cells": [
  {
   "cell_type": "code",
   "execution_count": 5,
   "metadata": {},
   "outputs": [
    {
     "name": "stdout",
     "output_type": "stream",
     "text": [
      "The autoreload extension is already loaded. To reload it, use:\n",
      "  %reload_ext autoreload\n"
     ]
    }
   ],
   "source": [
    "%load_ext autoreload"
   ]
  },
  {
   "cell_type": "code",
   "execution_count": 6,
   "metadata": {},
   "outputs": [],
   "source": [
    "import asammdf\n",
    "Signal = asammdf.Signal\n",
    "import numpy as np\n",
    "import py\n",
    "import get_files\n",
    "import uuid\n",
    "%matplotlib inline"
   ]
  },
  {
   "cell_type": "code",
   "execution_count": 7,
   "metadata": {},
   "outputs": [
    {
     "name": "stdout",
     "output_type": "stream",
     "text": [
      "Overwriting MDF2.py\n"
     ]
    }
   ],
   "source": [
    "%%file MDF2.py\n",
    "import asammdf\n",
    "def _path(self):\n",
    "    return py.path.local(self._file.name)\n",
    "\n",
    "def __repr__(self):\n",
    "    return \"MDF<{}, v={}>\".format(self._path.basename, self.version)\n",
    "\n",
    "# Dunctions to extend MDF with.\n",
    "extend = {\n",
    "    \"__repr__\": __repr__,\n",
    "    \"_path\": property(_path),\n",
    "}\n",
    "MDF2 = type(\"MDF2\", (asammdf.MDF, ), extend)"
   ]
  },
  {
   "cell_type": "code",
   "execution_count": 8,
   "metadata": {},
   "outputs": [],
   "source": [
    "from MDF2 import MDF2"
   ]
  },
  {
   "cell_type": "code",
   "execution_count": 12,
   "metadata": {},
   "outputs": [],
   "source": [
    "from signal_generators import *"
   ]
  },
  {
   "cell_type": "code",
   "execution_count": 16,
   "metadata": {},
   "outputs": [],
   "source": [
    "import time"
   ]
  },
  {
   "cell_type": "code",
   "execution_count": 21,
   "metadata": {},
   "outputs": [],
   "source": [
    "t0 = time.time()\n",
    "T = np.zeros(0)"
   ]
  },
  {
   "cell_type": "code",
   "execution_count": 43,
   "metadata": {},
   "outputs": [
    {
     "data": {
      "text/plain": [
       "numpy.float32"
      ]
     },
     "execution_count": 43,
     "metadata": {},
     "output_type": "execute_result"
    }
   ],
   "source": [
    "np.float32"
   ]
  },
  {
   "cell_type": "code",
   "execution_count": 75,
   "metadata": {},
   "outputs": [],
   "source": [
    "class SignalBuffer():\n",
    "    def __init__(self, buffer_size=1024, dtype=np.float32):\n",
    "        self.buffer_size = buffer_size\n",
    "        self.index=0\n",
    "        self.uuid=uuid.uuid4()\n",
    "        self.timestamps = np.ones(\n",
    "            self.buffer_size,\n",
    "            dtype=dtype,\n",
    "        )*np.NaN\n",
    "        self.samples = np.ones(\n",
    "            self.buffer_size,\n",
    "            dtype=dtype,\n",
    "        )*np.NaN\n",
    "        \n",
    "    def append(self, timestamp, sample):\n",
    "        try:\n",
    "            self.timestamps[self.index] = timestamp\n",
    "            self.samples[self.index] = sample\n",
    "            self.index+=1\n",
    "        except:\n",
    "            # TODO: Something\n",
    "            raise\n",
    "            \n",
    "    def signal(self, name=None, unit=\"\"):\n",
    "        if name is None:\n",
    "            name = self.uuid\n",
    "        signal_ = asammdf.Signal(\n",
    "            timestamps=self.timestamps[:self.index],\n",
    "            samples=self.samples[:self.index],\n",
    "            name=name,\n",
    "            unit=unit,\n",
    "            comment=\"buffer\",\n",
    "        )\n",
    "        return signal_\n",
    "            \n",
    "    @property\n",
    "    def _free(self):\n",
    "        return self.buffer-self.index\n",
    "        \n",
    "    def __repr__(self):\n",
    "        return \"SignalBuffer<free={}>\".format(self._free)"
   ]
  },
  {
   "cell_type": "code",
   "execution_count": 76,
   "metadata": {},
   "outputs": [],
   "source": [
    "utc_buffer = SignalBuffer()\n",
    "utc_buffer2 = SignalBuffer()\n",
    "\n",
    "t0 = time.time()\n",
    "for _ in range(10):\n",
    "    utc = time.time()\n",
    "    utc_buffer.append(\n",
    "        timestamp=utc-t0,\n",
    "        sample=utc,\n",
    "    )\n",
    "    time.sleep(0.1)\n",
    "    \n",
    "for _ in range(10):\n",
    "    utc = time.time()\n",
    "    utc_buffer2.append(\n",
    "        timestamp=utc-t0,\n",
    "        sample=utc,\n",
    "    )\n",
    "    time.sleep(0.1)"
   ]
  },
  {
   "cell_type": "code",
   "execution_count": 81,
   "metadata": {},
   "outputs": [],
   "source": [
    "f = utc_buffer.signal(name=\"UTC\", unit=\"s\").extend(utc_buffer2.signal())"
   ]
  },
  {
   "cell_type": "code",
   "execution_count": 87,
   "metadata": {},
   "outputs": [],
   "source": [
    "import datetime"
   ]
  },
  {
   "cell_type": "code",
   "execution_count": null,
   "metadata": {},
   "outputs": [],
   "source": [
    "datetime.date"
   ]
  },
  {
   "cell_type": "code",
   "execution_count": 86,
   "metadata": {},
   "outputs": [
    {
     "ename": "TypeError",
     "evalue": "an integer is required (got type datetime.datetime)",
     "output_type": "error",
     "traceback": [
      "\u001b[0;31m---------------------------------------------------------------------------\u001b[0m",
      "\u001b[0;31mTypeError\u001b[0m                                 Traceback (most recent call last)",
      "\u001b[0;32m<ipython-input-86-79b2a65f050d>\u001b[0m in \u001b[0;36m<module>\u001b[0;34m()\u001b[0m\n\u001b[0;32m----> 1\u001b[0;31m \u001b[0mdatetime\u001b[0m\u001b[0;34m.\u001b[0m\u001b[0mdatetime\u001b[0m\u001b[0;34m(\u001b[0m\u001b[0mdatetime\u001b[0m\u001b[0;34m.\u001b[0m\u001b[0mdatetime\u001b[0m\u001b[0;34m.\u001b[0m\u001b[0mnow\u001b[0m\u001b[0;34m(\u001b[0m\u001b[0;34m)\u001b[0m\u001b[0;34m)\u001b[0m\u001b[0;34m\u001b[0m\u001b[0m\n\u001b[0m",
      "\u001b[0;31mTypeError\u001b[0m: an integer is required (got type datetime.datetime)"
     ]
    }
   ],
   "source": [
    "datetime.datetime(datetime.datetime.now())"
   ]
  },
  {
   "cell_type": "code",
   "execution_count": null,
   "metadata": {},
   "outputs": [],
   "source": [
    "data_file_uuid = str(uuid.uuid4())\n",
    "\n",
    "channel_path_ = [\"Data\", data_file_uuid]\n",
    "\n",
    "channel_path = py.path.local(\n",
    "        os.path.join(*channel_path_)\n",
    ")\n",
    "\n",
    "channel_path.dirpath().ensure(dir=True)"
   ]
  }
 ],
 "metadata": {
  "kernelspec": {
   "display_name": "Python 3",
   "language": "python",
   "name": "python3"
  },
  "language_info": {
   "codemirror_mode": {
    "name": "ipython",
    "version": 3
   },
   "file_extension": ".py",
   "mimetype": "text/x-python",
   "name": "python",
   "nbconvert_exporter": "python",
   "pygments_lexer": "ipython3",
   "version": "3.5.2"
  }
 },
 "nbformat": 4,
 "nbformat_minor": 2
}
