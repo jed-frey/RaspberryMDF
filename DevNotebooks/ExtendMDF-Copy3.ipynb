{
 "cells": [
  {
   "cell_type": "code",
   "execution_count": 6,
   "metadata": {},
   "outputs": [],
   "source": [
    "import asammdf\n",
    "import numpy as np\n",
    "import py\n",
    "import get_files\n",
    "import uuid\n",
    "%matplotlib inline"
   ]
  },
  {
   "cell_type": "code",
   "execution_count": 7,
   "metadata": {},
   "outputs": [],
   "source": [
    "def sine(t, A=1, f=1):\n",
    "    sine_ = A*np.sin(\n",
    "        2 * np.pi * f * t\n",
    "    )\n",
    "    return sine_\n",
    "\n",
    "def _path(self):\n",
    "    return py.path.local(self._file.name)\n",
    "\n",
    "def __repr__(self):\n",
    "    return \"MDF<{}, v={}>\".format(self._path.basename, self.version)\n",
    "\n",
    "extend = {\n",
    "    \"__repr__\": __repr__,\n",
    "    \"_path\": property(_path),\n",
    "}\n",
    "MDF2 = type(\"MDF2\", (asammdf.MDF, ), extend)"
   ]
  },
  {
   "cell_type": "code",
   "execution_count": 19,
   "metadata": {},
   "outputs": [],
   "source": [
    "Signal = asammdf.Signal"
   ]
  },
  {
   "cell_type": "code",
   "execution_count": 20,
   "metadata": {},
   "outputs": [],
   "source": [
    "signals = list()\n",
    "\n",
    "signal0 = Signal(\n",
    "    samples=sine(t0),\n",
    "    timestamps=t0,\n",
    "    name=\"sine\",\n",
    "    unit=\"\",\n",
    ")"
   ]
  },
  {
   "cell_type": "code",
   "execution_count": 21,
   "metadata": {},
   "outputs": [],
   "source": [
    "signals = [signal0]"
   ]
  },
  {
   "cell_type": "code",
   "execution_count": 22,
   "metadata": {},
   "outputs": [
    {
     "name": "stdout",
     "output_type": "stream",
     "text": [
      "log_data.mf4\n"
     ]
    }
   ],
   "source": [
    "mdf = MDF2(\n",
    "    version='4.11',\n",
    ")\n",
    "mdf.append(\n",
    "    signals=signals,\n",
    "    common_timebase=False,\n",
    ")\n",
    "o = mdf.save(\n",
    "    dst=\"log_data\",\n",
    "    overwrite=True,\n",
    "    compression=2,\n",
    ")\n",
    "print(o)"
   ]
  },
  {
   "cell_type": "code",
   "execution_count": 23,
   "metadata": {},
   "outputs": [],
   "source": [
    "class SignalBuffer():\n",
    "    def __init__(self, buffer=100):\n",
    "        self.buffer = buffer\n",
    "        self.index=0\n",
    "        self.uuid=uuid.uuid4()\n",
    "        self.timestamps=np.zeros([self.buffer])\n",
    "        self.samples=np.zeros([self.buffer])\n",
    "        \n",
    "    def append(self, timestamp, sample):\n",
    "        try:\n",
    "            self.timestamps[self.index] = timestamp\n",
    "            self.samples[self.index] = sample\n",
    "            self.index+=1\n",
    "        except:\n",
    "            raise\n",
    "            \n",
    "    @property\n",
    "    def _signal(self):\n",
    "        signal_ = asammdf.Signal(\n",
    "            timestamps=self.timestamps,\n",
    "            samples=self.samples,\n",
    "            name=self.uuid,\n",
    "            unit=\"\",\n",
    "            comment=\"buffer\"\n",
    "        )\n",
    "        return signal_\n",
    "            \n",
    "    @property\n",
    "    def _free(self):\n",
    "        return self.buffer-self.index\n",
    "        \n",
    "    def __repr__(self):\n",
    "        return \"SignalBuffer<free={}>\".format(self._free)"
   ]
  },
  {
   "cell_type": "code",
   "execution_count": 24,
   "metadata": {},
   "outputs": [],
   "source": [
    "sine_buffer = SignalBuffer()"
   ]
  },
  {
   "cell_type": "code",
   "execution_count": 26,
   "metadata": {},
   "outputs": [],
   "source": [
    "buffer_time = 5 # seconds\n",
    "# Bootstrap time\n",
    "t0=np.arange(0, buffer_time, 1e-3, dtype=np.float32)\n",
    "# Faux Time\n",
    "t1=np.arange(buffer_time, 2*buffer_time, 1e-3, dtype=np.float32)"
   ]
  },
  {
   "cell_type": "code",
   "execution_count": 27,
   "metadata": {},
   "outputs": [
    {
     "data": {
      "text/plain": [
       "0"
      ]
     },
     "execution_count": 27,
     "metadata": {},
     "output_type": "execute_result"
    }
   ],
   "source": [
    "signals = list()"
   ]
  },
  {
   "cell_type": "code",
   "execution_count": 30,
   "metadata": {},
   "outputs": [],
   "source": [
    "idx=0\n",
    "\n",
    "signal0 = Signal(\n",
    "    samples=sine(t0),\n",
    "    timestamps=t0,\n",
    "    name=\"sine\",\n",
    "    unit=\"\",\n",
    ")\n",
    "\n",
    "sine_buffer = SignalBuffer()\n",
    "for t in t1:\n",
    "    if sine_buffer._free<1:\n",
    "        signal0 = signal0.extend(sine_buffer._signal)\n",
    "        \n",
    "        signals = [\n",
    "            signal0\n",
    "        ]\n",
    "        mdf = MDF2(\n",
    "            version='4.11',\n",
    "        )\n",
    "        signals\n",
    "        mdf.append(\n",
    "            signals=signals,\n",
    "            common_timebase=False,\n",
    "        )\n",
    "\n",
    "        o = mdf.save(\n",
    "            dst=\"log_data_{}\".format(idx),\n",
    "            overwrite=True,\n",
    "            compression=2,\n",
    "        )\n",
    "        idx+=1\n",
    "        sine_buffer = SignalBuffer()\n",
    "    \n",
    "    sine_buffer.append(t, sine(t))\n",
    "signal0 = signal0.extend(sine_buffer._signal)"
   ]
  },
  {
   "cell_type": "code",
   "execution_count": 32,
   "metadata": {
    "scrolled": true
   },
   "outputs": [
    {
     "data": {
      "image/png": "[encoded data removed]",
      "text/plain": [
       "<matplotlib.figure.Figure at 0x7f7fcc3c3198>"
      ]
     },
     "metadata": {},
     "output_type": "display_data"
    }
   ],
   "source": [
    "signal0.plot()"
   ]
  }
 ],
 "metadata": {
  "kernelspec": {
   "display_name": "Python 3",
   "language": "python",
   "name": "python3"
  },
  "language_info": {
   "codemirror_mode": {
    "name": "ipython",
    "version": 3
   },
   "file_extension": ".py",
   "mimetype": "text/x-python",
   "name": "python",
   "nbconvert_exporter": "python",
   "pygments_lexer": "ipython3",
   "version": "3.5.2"
  }
 },
 "nbformat": 4,
 "nbformat_minor": 2
}
