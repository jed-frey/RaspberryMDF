{
 "cells": [
  {
   "cell_type": "code",
   "execution_count": 1,
   "metadata": {},
   "outputs": [],
   "source": [
    "import asammdf\n",
    "import numpy as np\n",
    "import py\n",
    "import get_files\n",
    "import uuid\n",
    "%matplotlib inline"
   ]
  },
  {
   "cell_type": "code",
   "execution_count": 2,
   "metadata": {},
   "outputs": [],
   "source": [
    "def sine(t, A=1, f=1):\n",
    "    sine_ = A*np.sin(\n",
    "        2 * np.pi * f * t\n",
    "    )\n",
    "    return sine_\n",
    "\n",
    "def _path(self):\n",
    "    return py.path.local(self._file.name)\n",
    "\n",
    "def __repr__(self):\n",
    "    return \"MDF<{}, v={}>\".format(self._path.basename, self.version)\n",
    "\n",
    "extend = {\n",
    "    \"__repr__\": __repr__,\n",
    "    \"_path\": property(_path),\n",
    "}\n",
    "MDF2 = type(\"MDF2\", (asammdf.MDF, ), extend)"
   ]
  },
  {
   "cell_type": "code",
   "execution_count": 3,
   "metadata": {},
   "outputs": [],
   "source": [
    "buffer_time = 5 # seconds"
   ]
  },
  {
   "cell_type": "code",
   "execution_count": 4,
   "metadata": {},
   "outputs": [],
   "source": [
    "t0=np.arange(0, buffer_time, 1e-3, dtype=np.float32)"
   ]
  },
  {
   "cell_type": "code",
   "execution_count": 5,
   "metadata": {},
   "outputs": [],
   "source": [
    "Signal = asammdf.Signal"
   ]
  },
  {
   "cell_type": "code",
   "execution_count": 25,
   "metadata": {},
   "outputs": [],
   "source": [
    "signals = list()\n",
    "\n",
    "signal0 = Signal(\n",
    "    samples=sine(t0),\n",
    "    timestamps=t0,\n",
    "    name=\"sine\",\n",
    "    unit=\"\",\n",
    ")"
   ]
  },
  {
   "cell_type": "code",
   "execution_count": 26,
   "metadata": {},
   "outputs": [],
   "source": [
    "signals = [signal0]"
   ]
  },
  {
   "cell_type": "code",
   "execution_count": 27,
   "metadata": {},
   "outputs": [
    {
     "name": "stdout",
     "output_type": "stream",
     "text": [
      "log_data.mf4\n"
     ]
    }
   ],
   "source": [
    "mdf = MDF2(\n",
    "    version='4.11',\n",
    ")\n",
    "mdf.append(\n",
    "    signals=signals,\n",
    "    common_timebase=False,\n",
    ")\n",
    "o = mdf.save(\n",
    "    dst=\"log_data\",\n",
    "    overwrite=True,\n",
    "    compression=2,\n",
    ")\n",
    "print(o)"
   ]
  },
  {
   "cell_type": "code",
   "execution_count": 37,
   "metadata": {},
   "outputs": [],
   "source": [
    "class SignalBuffer():\n",
    "    def __init__(self, buffer=100):\n",
    "        self.buffer = buffer\n",
    "        self.index=0\n",
    "        self.uuid=uuid.uuid4()\n",
    "        self.timestamps=np.zeros([self.buffer])\n",
    "        self.samples=np.zeros([self.buffer])\n",
    "        \n",
    "    def append(self, timestamp, sample):\n",
    "        try:\n",
    "            self.timestamps[self.index] = timestamp\n",
    "            self.samples[self.index] = sample\n",
    "            self.index+=1\n",
    "        except:\n",
    "            raise\n",
    "            \n",
    "    @property\n",
    "    def _signal(self):\n",
    "        signal_ = asammdf.Signal(\n",
    "            timestamps=self.timestamps,\n",
    "            samples=self.samples,\n",
    "            name=self.uuid,\n",
    "            unit=\"\",\n",
    "            comment=\"buffer\"\n",
    "        )\n",
    "        return signal_\n",
    "            \n",
    "    @property\n",
    "    def _free(self):\n",
    "        return self.buffer-self.index\n",
    "        \n",
    "    def __repr__(self):\n",
    "        return \"SignalBuffer<free={}>\".format(self._free)"
   ]
  },
  {
   "cell_type": "code",
   "execution_count": 38,
   "metadata": {},
   "outputs": [],
   "source": [
    "sine_buffer = SignalBuffer()"
   ]
  },
  {
   "cell_type": "code",
   "execution_count": 39,
   "metadata": {},
   "outputs": [],
   "source": [
    "t1=np.arange(buffer_time, 2*buffer_time, 1e-3, dtype=np.float32)"
   ]
  },
  {
   "cell_type": "code",
   "execution_count": 40,
   "metadata": {
    "scrolled": true
   },
   "outputs": [
    {
     "ename": "IndexError",
     "evalue": "index 100 is out of bounds for axis 0 with size 100",
     "output_type": "error",
     "traceback": [
      "\u001b[0;31m---------------------------------------------------------------------------\u001b[0m",
      "\u001b[0;31mIndexError\u001b[0m                                Traceback (most recent call last)",
      "\u001b[0;32m<ipython-input-40-e0444cfb4954>\u001b[0m in \u001b[0;36m<module>\u001b[0;34m()\u001b[0m\n\u001b[1;32m      1\u001b[0m \u001b[0;32mfor\u001b[0m \u001b[0mt\u001b[0m \u001b[0;32min\u001b[0m \u001b[0mt1\u001b[0m\u001b[0;34m:\u001b[0m\u001b[0;34m\u001b[0m\u001b[0m\n\u001b[0;32m----> 2\u001b[0;31m     \u001b[0msine_buffer\u001b[0m\u001b[0;34m.\u001b[0m\u001b[0mappend\u001b[0m\u001b[0;34m(\u001b[0m\u001b[0mt\u001b[0m\u001b[0;34m,\u001b[0m \u001b[0msine\u001b[0m\u001b[0;34m(\u001b[0m\u001b[0mt\u001b[0m\u001b[0;34m)\u001b[0m\u001b[0;34m)\u001b[0m\u001b[0;34m\u001b[0m\u001b[0m\n\u001b[0m",
      "\u001b[0;32m<ipython-input-37-e9fe531c25dc>\u001b[0m in \u001b[0;36mappend\u001b[0;34m(self, timestamp, sample)\u001b[0m\n\u001b[1;32m      9\u001b[0m     \u001b[0;32mdef\u001b[0m \u001b[0mappend\u001b[0m\u001b[0;34m(\u001b[0m\u001b[0mself\u001b[0m\u001b[0;34m,\u001b[0m \u001b[0mtimestamp\u001b[0m\u001b[0;34m,\u001b[0m \u001b[0msample\u001b[0m\u001b[0;34m)\u001b[0m\u001b[0;34m:\u001b[0m\u001b[0;34m\u001b[0m\u001b[0m\n\u001b[1;32m     10\u001b[0m         \u001b[0;32mtry\u001b[0m\u001b[0;34m:\u001b[0m\u001b[0;34m\u001b[0m\u001b[0m\n\u001b[0;32m---> 11\u001b[0;31m             \u001b[0mself\u001b[0m\u001b[0;34m.\u001b[0m\u001b[0mtimestamps\u001b[0m\u001b[0;34m[\u001b[0m\u001b[0mself\u001b[0m\u001b[0;34m.\u001b[0m\u001b[0mindex\u001b[0m\u001b[0;34m]\u001b[0m \u001b[0;34m=\u001b[0m \u001b[0mtimestamp\u001b[0m\u001b[0;34m\u001b[0m\u001b[0m\n\u001b[0m\u001b[1;32m     12\u001b[0m             \u001b[0mself\u001b[0m\u001b[0;34m.\u001b[0m\u001b[0msamples\u001b[0m\u001b[0;34m[\u001b[0m\u001b[0mself\u001b[0m\u001b[0;34m.\u001b[0m\u001b[0mindex\u001b[0m\u001b[0;34m]\u001b[0m \u001b[0;34m=\u001b[0m \u001b[0msample\u001b[0m\u001b[0;34m\u001b[0m\u001b[0m\n\u001b[1;32m     13\u001b[0m             \u001b[0mself\u001b[0m\u001b[0;34m.\u001b[0m\u001b[0mindex\u001b[0m\u001b[0;34m+=\u001b[0m\u001b[0;36m1\u001b[0m\u001b[0;34m\u001b[0m\u001b[0m\n",
      "\u001b[0;31mIndexError\u001b[0m: index 100 is out of bounds for axis 0 with size 100"
     ]
    }
   ],
   "source": [
    "for t in t1:\n",
    "    sine_buffer.append(t, sine(t))"
   ]
  },
  {
   "cell_type": "code",
   "execution_count": 41,
   "metadata": {
    "scrolled": true
   },
   "outputs": [
    {
     "data": {
      "text/plain": [
       "0"
      ]
     },
     "execution_count": 41,
     "metadata": {},
     "output_type": "execute_result"
    }
   ],
   "source": [
    "sine_buffer = SignalBuffer()\n",
    "for t in t1:\n",
    "    sine_buffer.append(t, sine(t))\n",
    "    if sine_buffer._free<1:\n",
    "        break\n",
    "sine_buffer._free"
   ]
  },
  {
   "cell_type": "code",
   "execution_count": 43,
   "metadata": {},
   "outputs": [
    {
     "data": {
      "image/png": "[encoded data removed]",
      "text/plain": [
       "<matplotlib.figure.Figure at 0x7fd0cab1f908>"
      ]
     },
     "metadata": {},
     "output_type": "display_data"
    }
   ],
   "source": [
    "sine_buffer._signal.plot()"
   ]
  },
  {
   "cell_type": "code",
   "execution_count": 46,
   "metadata": {},
   "outputs": [
    {
     "data": {
      "image/png": "[encoded data removed]",
      "text/plain": [
       "<matplotlib.figure.Figure at 0x7fd0ca9631d0>"
      ]
     },
     "metadata": {},
     "output_type": "display_data"
    }
   ],
   "source": [
    "signal0.extend(sine_buffer._signal).plot()"
   ]
  },
  {
   "cell_type": "code",
   "execution_count": 47,
   "metadata": {},
   "outputs": [],
   "source": [
    "# Bootstrap time\n",
    "t0=np.arange(0, buffer_time, 1e-3, dtype=np.float32)\n",
    "# Faux Time\n",
    "t1=np.arange(buffer_time, 2*buffer_time, 1e-3, dtype=np.float32)"
   ]
  },
  {
   "cell_type": "code",
   "execution_count": 48,
   "metadata": {},
   "outputs": [
    {
     "data": {
      "text/plain": [
       "0"
      ]
     },
     "execution_count": 48,
     "metadata": {},
     "output_type": "execute_result"
    }
   ],
   "source": [
    "signals = list()\n",
    "\n",
    "signal0 = Signal(\n",
    "    samples=sine(t0),\n",
    "    timestamps=t0,\n",
    "    name=\"sine\",\n",
    "    unit=\"\",\n",
    ")\n",
    "\n",
    "sine_buffer = SignalBuffer()\n",
    "for t in t1:\n",
    "    sine_buffer.append(t, sine(t))\n",
    "    if sine_buffer._free<1:\n",
    "        break\n",
    "sine_buffer._free"
   ]
  },
  {
   "cell_type": "code",
   "execution_count": 51,
   "metadata": {},
   "outputs": [
    {
     "name": "stdout",
     "output_type": "stream",
     "text": [
      "log_data.mf4\n"
     ]
    }
   ],
   "source": [
    "signals = [\n",
    "    signal0\n",
    "]\n",
    "mdf = MDF2(\n",
    "    version='4.11',\n",
    ")\n",
    "mdf.append(\n",
    "    signals=signals,\n",
    "    common_timebase=False,\n",
    ")\n",
    "o = mdf.save(\n",
    "    dst=\"log_data\",\n",
    "    overwrite=True,\n",
    "    compression=2,\n",
    ")\n",
    "print(o)"
   ]
  },
  {
   "cell_type": "code",
   "execution_count": 53,
   "metadata": {},
   "outputs": [
    {
     "name": "stdout",
     "output_type": "stream",
     "text": [
      "log_data_0.mf4\n"
     ]
    }
   ],
   "source": [
    "signals = [\n",
    "    signal0\n",
    "]\n",
    "mdf = MDF2(\n",
    "    version='4.11',\n",
    ")\n",
    "mdf.append(\n",
    "    signals=signals,\n",
    "    common_timebase=False,\n",
    ")\n",
    "\n",
    "idx=0\n",
    "\n",
    "o = mdf.save(\n",
    "    dst=\"log_data_{}\".format(idx),\n",
    "    overwrite=True,\n",
    "    compression=2,\n",
    ")\n",
    "\n",
    "print(o)"
   ]
  },
  {
   "cell_type": "code",
   "execution_count": 64,
   "metadata": {},
   "outputs": [],
   "source": [
    "idx=0\n",
    "\n",
    "signalX = signal0\n",
    "sine_buffer = SignalBuffer()\n",
    "for t in t1:\n",
    "    if sine_buffer._free<1:\n",
    "        signalX = signalX.extend(sine_buffer._signal)\n",
    "        \n",
    "        signals = [\n",
    "            signalX\n",
    "        ]\n",
    "        mdf = MDF2(\n",
    "            version='4.11',\n",
    "        )\n",
    "        signals\n",
    "        mdf.append(\n",
    "            signals=signals,\n",
    "            common_timebase=False,\n",
    "        )\n",
    "\n",
    "        o = mdf.save(\n",
    "            dst=\"log_data_{}\".format(idx),\n",
    "            overwrite=True,\n",
    "            compression=2,\n",
    "        )\n",
    "        idx+=1\n",
    "        sine_buffer = SignalBuffer()\n",
    "    \n",
    "    sine_buffer.append(t, sine(t))\n"
   ]
  },
  {
   "cell_type": "code",
   "execution_count": 65,
   "metadata": {
    "scrolled": true
   },
   "outputs": [
    {
     "data": {
      "image/png": "[encoded data removed]",
      "text/plain": [
       "<matplotlib.figure.Figure at 0x7fd0cabd0828>"
      ]
     },
     "metadata": {},
     "output_type": "display_data"
    }
   ],
   "source": [
    "signalX.plot()"
   ]
  },
  {
   "cell_type": "code",
   "execution_count": null,
   "metadata": {},
   "outputs": [],
   "source": []
  }
 ],
 "metadata": {
  "kernelspec": {
   "display_name": "Python 3",
   "language": "python",
   "name": "python3"
  },
  "language_info": {
   "codemirror_mode": {
    "name": "ipython",
    "version": 3
   },
   "file_extension": ".py",
   "mimetype": "text/x-python",
   "name": "python",
   "nbconvert_exporter": "python",
   "pygments_lexer": "ipython3",
   "version": "3.5.2"
  }
 },
 "nbformat": 4,
 "nbformat_minor": 2
}
